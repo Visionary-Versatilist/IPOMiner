{
 "cells": [
  {
   "cell_type": "markdown",
   "metadata": {},
   "source": [
    "# IPO Performance\n",
    "- Retrieves historical price performance\n",
    "- Uses Yahoo Finance for historical price data\n",
    " - https://finance.yahoo.com/"
   ]
  },
  {
   "cell_type": "code",
   "execution_count": 1,
   "metadata": {},
   "outputs": [],
   "source": [
    "import numpy as np\n",
    "import pandas as pd\n",
    "\n",
    "import nasdaq\n",
    "\n",
    "from pandas_datareader import data as pdr\n",
    "import fix_yahoo_finance as yf\n",
    "yf.pdr_override()\n",
    "\n",
    "%matplotlib inline\n",
    "import matplotlib.pyplot as plt\n",
    "import time"
   ]
  },
  {
   "cell_type": "code",
   "execution_count": 2,
   "metadata": {},
   "outputs": [],
   "source": [
    "# params\n",
    "start_date = '2018-06-01'\n",
    "ipo_performance_csv = '../Datasets/0 ipo listings.csv'"
   ]
  },
  {
   "cell_type": "markdown",
   "metadata": {},
   "source": [
    "# Create NASDAQ IPO List"
   ]
  },
  {
   "cell_type": "code",
   "execution_count": 3,
   "metadata": {},
   "outputs": [
    {
     "name": "stdout",
     "output_type": "stream",
     "text": [
      "date range: odict_keys(['2018-06', '2018-07'])\n",
      "symbols 39\n"
     ]
    }
   ],
   "source": [
    "df_symbols = nasdaq.get_ipo_list(start_date)\n",
    "print('symbols', df_symbols.shape[0])"
   ]
  },
  {
   "cell_type": "code",
   "execution_count": 4,
   "metadata": {},
   "outputs": [
    {
     "data": {
      "text/html": [
       "<div>\n",
       "<style scoped>\n",
       "    .dataframe tbody tr th:only-of-type {\n",
       "        vertical-align: middle;\n",
       "    }\n",
       "\n",
       "    .dataframe tbody tr th {\n",
       "        vertical-align: top;\n",
       "    }\n",
       "\n",
       "    .dataframe thead th {\n",
       "        text-align: right;\n",
       "    }\n",
       "</style>\n",
       "<table border=\"1\" class=\"dataframe\">\n",
       "  <thead>\n",
       "    <tr style=\"text-align: right;\">\n",
       "      <th></th>\n",
       "      <th>Company Name</th>\n",
       "      <th>Symbol</th>\n",
       "      <th>Market</th>\n",
       "      <th>Price</th>\n",
       "      <th>Shares</th>\n",
       "      <th>Offer Amount</th>\n",
       "      <th>Date Priced</th>\n",
       "    </tr>\n",
       "    <tr>\n",
       "      <th>Symbol</th>\n",
       "      <th></th>\n",
       "      <th></th>\n",
       "      <th></th>\n",
       "      <th></th>\n",
       "      <th></th>\n",
       "      <th></th>\n",
       "      <th></th>\n",
       "    </tr>\n",
       "  </thead>\n",
       "  <tbody>\n",
       "    <tr>\n",
       "      <th>DOMO</th>\n",
       "      <td>DOMO, INC.</td>\n",
       "      <td>DOMO</td>\n",
       "      <td>NASDAQ Global</td>\n",
       "      <td>21.0</td>\n",
       "      <td>9200000</td>\n",
       "      <td>193200000.0</td>\n",
       "      <td>2018-06-29</td>\n",
       "    </tr>\n",
       "    <tr>\n",
       "      <th>BJ</th>\n",
       "      <td>BJ'S WHOLESALE CLUB HOLDINGS, INC.</td>\n",
       "      <td>BJ</td>\n",
       "      <td>NYSE</td>\n",
       "      <td>17.0</td>\n",
       "      <td>37500000</td>\n",
       "      <td>637500000.0</td>\n",
       "      <td>2018-06-28</td>\n",
       "    </tr>\n",
       "    <tr>\n",
       "      <th>BV</th>\n",
       "      <td>BRIGHTVIEW HOLDINGS, INC.</td>\n",
       "      <td>BV</td>\n",
       "      <td>NYSE</td>\n",
       "      <td>22.0</td>\n",
       "      <td>21300000</td>\n",
       "      <td>468600000.0</td>\n",
       "      <td>2018-06-28</td>\n",
       "    </tr>\n",
       "    <tr>\n",
       "      <th>ENTX</th>\n",
       "      <td>ENTERA BIO LTD.</td>\n",
       "      <td>ENTX</td>\n",
       "      <td>NASDAQ Capital</td>\n",
       "      <td>8.0</td>\n",
       "      <td>1400000</td>\n",
       "      <td>11200000.0</td>\n",
       "      <td>2018-06-28</td>\n",
       "    </tr>\n",
       "    <tr>\n",
       "      <th>EVER</th>\n",
       "      <td>EVERQUOTE, INC.</td>\n",
       "      <td>EVER</td>\n",
       "      <td>NASDAQ Global</td>\n",
       "      <td>18.0</td>\n",
       "      <td>4687500</td>\n",
       "      <td>84375000.0</td>\n",
       "      <td>2018-06-28</td>\n",
       "    </tr>\n",
       "  </tbody>\n",
       "</table>\n",
       "</div>"
      ],
      "text/plain": [
       "                              Company Name Symbol          Market  Price  \\\n",
       "Symbol                                                                     \n",
       "DOMO                            DOMO, INC.   DOMO   NASDAQ Global   21.0   \n",
       "BJ      BJ'S WHOLESALE CLUB HOLDINGS, INC.     BJ            NYSE   17.0   \n",
       "BV               BRIGHTVIEW HOLDINGS, INC.     BV            NYSE   22.0   \n",
       "ENTX                       ENTERA BIO LTD.   ENTX  NASDAQ Capital    8.0   \n",
       "EVER                       EVERQUOTE, INC.   EVER   NASDAQ Global   18.0   \n",
       "\n",
       "          Shares  Offer Amount Date Priced  \n",
       "Symbol                                      \n",
       "DOMO     9200000   193200000.0  2018-06-29  \n",
       "BJ      37500000   637500000.0  2018-06-28  \n",
       "BV      21300000   468600000.0  2018-06-28  \n",
       "ENTX     1400000    11200000.0  2018-06-28  \n",
       "EVER     4687500    84375000.0  2018-06-28  "
      ]
     },
     "execution_count": 4,
     "metadata": {},
     "output_type": "execute_result"
    }
   ],
   "source": [
    "df_symbols.head()"
   ]
  },
  {
   "cell_type": "code",
   "execution_count": 5,
   "metadata": {},
   "outputs": [],
   "source": [
    "#load previous to save time\n",
    "df_prev = pd.read_csv(ipo_performance_csv).dropna()\n",
    "df_prev.index = df_prev['Symbol']\n",
    "\n",
    "#reduce by previously done\n",
    "df_symbols = df_symbols.loc[df_symbols.index.difference(df_prev.index)]"
   ]
  },
  {
   "cell_type": "markdown",
   "metadata": {},
   "source": [
    "# Add Historical Price Performance"
   ]
  },
  {
   "cell_type": "markdown",
   "metadata": {},
   "source": [
    "- Use open prices only (retial traders won't get best price)"
   ]
  },
  {
   "cell_type": "code",
   "execution_count": 6,
   "metadata": {},
   "outputs": [],
   "source": [
    "#target variables and trading days range\n",
    "targets = {\n",
    "    '1D' : 1,\n",
    "    '1W' : 5,\n",
    "    '1M' : 20,\n",
    "    '3M' : 60\n",
    "}"
   ]
  },
  {
   "cell_type": "code",
   "execution_count": 7,
   "metadata": {
    "scrolled": true
   },
   "outputs": [],
   "source": [
    "#add targets\n",
    "for t in targets.keys():\n",
    "    df_symbols[t] = np.NaN\n",
    "\n",
    "#calculate targets    \n",
    "counter = 0    \n",
    "    \n",
    "for x in df_symbols['Symbol']:\n",
    "    try:\n",
    "        time.sleep(5)\n",
    "        counter += 1\n",
    "        print('\\n( ' + str(counter) + ' / ' + str(df_symbols.shape[0]) + ' ) ' + str(x))\n",
    "\n",
    "        #get historical prices\n",
    "        df = pdr.get_data_yahoo(x, start=start_date)\n",
    "\n",
    "        #add targets\n",
    "        for t in targets.keys():\n",
    "            s = df.pct_change(periods=targets[t]).dropna().head(1)['Open']\n",
    "            if df.head(1).index[0] == df_symbols.at[x, 'Date Priced'] and s.shape[0] > 0 and abs(s[0]) > 0:\n",
    "                df_symbols.at[x, t] = s[0]\n",
    "            else:\n",
    "                df_symbols.at[x, t] = np.NaN\n",
    "                \n",
    "        #store\n",
    "        df_full = pd.concat([df_symbols, df_prev], axis=0)\n",
    "        #df_full.dropna(inplace=True)        \n",
    "        df_full.to_csv(ipo_performance_csv, index=False)                \n",
    "    except Exception as e:\n",
    "        print(x, e)     "
   ]
  },
  {
   "cell_type": "code",
   "execution_count": 8,
   "metadata": {},
   "outputs": [
    {
     "name": "stdout",
     "output_type": "stream",
     "text": [
      "done 0 prev 996\n"
     ]
    },
    {
     "data": {
      "text/html": [
       "<div>\n",
       "<style scoped>\n",
       "    .dataframe tbody tr th:only-of-type {\n",
       "        vertical-align: middle;\n",
       "    }\n",
       "\n",
       "    .dataframe tbody tr th {\n",
       "        vertical-align: top;\n",
       "    }\n",
       "\n",
       "    .dataframe thead th {\n",
       "        text-align: right;\n",
       "    }\n",
       "</style>\n",
       "<table border=\"1\" class=\"dataframe\">\n",
       "  <thead>\n",
       "    <tr style=\"text-align: right;\">\n",
       "      <th></th>\n",
       "      <th>Company Name</th>\n",
       "      <th>Symbol</th>\n",
       "      <th>Market</th>\n",
       "      <th>Price</th>\n",
       "      <th>Shares</th>\n",
       "      <th>Offer Amount</th>\n",
       "      <th>Date Priced</th>\n",
       "      <th>1D</th>\n",
       "      <th>1W</th>\n",
       "      <th>1M</th>\n",
       "      <th>3M</th>\n",
       "    </tr>\n",
       "    <tr>\n",
       "      <th>Symbol</th>\n",
       "      <th></th>\n",
       "      <th></th>\n",
       "      <th></th>\n",
       "      <th></th>\n",
       "      <th></th>\n",
       "      <th></th>\n",
       "      <th></th>\n",
       "      <th></th>\n",
       "      <th></th>\n",
       "      <th></th>\n",
       "      <th></th>\n",
       "    </tr>\n",
       "  </thead>\n",
       "  <tbody>\n",
       "  </tbody>\n",
       "</table>\n",
       "</div>"
      ],
      "text/plain": [
       "Empty DataFrame\n",
       "Columns: [Company Name, Symbol, Market, Price, Shares, Offer Amount, Date Priced, 1D, 1W, 1M, 3M]\n",
       "Index: []"
      ]
     },
     "execution_count": 8,
     "metadata": {},
     "output_type": "execute_result"
    }
   ],
   "source": [
    "print('done', df_symbols.shape[0], 'prev', df_prev.shape[0])\n",
    "df_symbols.head(3)"
   ]
  },
  {
   "cell_type": "code",
   "execution_count": null,
   "metadata": {},
   "outputs": [],
   "source": []
  }
 ],
 "metadata": {
  "kernelspec": {
   "display_name": "Python 3",
   "language": "python",
   "name": "python3"
  },
  "language_info": {
   "codemirror_mode": {
    "name": "ipython",
    "version": 3
   },
   "file_extension": ".py",
   "mimetype": "text/x-python",
   "name": "python",
   "nbconvert_exporter": "python",
   "pygments_lexer": "ipython3",
   "version": "3.6.4"
  }
 },
 "nbformat": 4,
 "nbformat_minor": 2
}
