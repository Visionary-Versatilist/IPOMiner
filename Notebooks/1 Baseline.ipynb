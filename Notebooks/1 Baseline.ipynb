{
 "cells": [
  {
   "cell_type": "markdown",
   "metadata": {},
   "source": [
    "# Baseline\n",
    "- Try to classify investment opportunities (buy/sell) for upcoming IPO\n",
    "- No NLP or fancy models\n",
    "- Raw IPO listing data"
   ]
  },
  {
   "cell_type": "code",
   "execution_count": 1,
   "metadata": {},
   "outputs": [],
   "source": [
    "#core\n",
    "%matplotlib inline\n",
    "import pandas as pd\n",
    "import glob\n",
    "import nasdaq\n",
    "import ml\n",
    "from pathlib import Path"
   ]
  },
  {
   "cell_type": "markdown",
   "metadata": {},
   "source": [
    "# Load NASDAQ IPO Performace"
   ]
  },
  {
   "cell_type": "code",
   "execution_count": 2,
   "metadata": {},
   "outputs": [],
   "source": [
    "#load and sort by date priced\n",
    "df = pd.read_csv('../Datasets/0 ipo listings.csv', index_col='Symbol')\n",
    "df['Date Priced'] = pd.to_datetime(df['Date Priced'], format='%Y-%m-%d')\n",
    "df.sort_values(by='Date Priced', inplace=True)"
   ]
  },
  {
   "cell_type": "markdown",
   "metadata": {},
   "source": [
    "### Preprocessing"
   ]
  },
  {
   "cell_type": "code",
   "execution_count": 3,
   "metadata": {},
   "outputs": [],
   "source": [
    "#transform company name \n",
    "df.insert(0, 'Name Length', df['Company Name'].str.len())\n",
    "df.insert(0, 'Name Words', df['Company Name'].str.split(' ').map(lambda x: len(x)))\n",
    "df.drop(['Company Name'], axis=1, inplace=True)\n",
    "\n",
    "#add quarter\n",
    "df.insert(0, 'Q', df['Date Priced'].map(lambda x: pd.Period(x,'Q').quarter))\n",
    "\n",
    "#add month\n",
    "df.insert(0, 'Month', df['Date Priced'].dt.month)\n",
    "\n",
    "df.drop(['Date Priced'], axis=1, inplace=True)"
   ]
  },
  {
   "cell_type": "code",
   "execution_count": 4,
   "metadata": {},
   "outputs": [],
   "source": [
    "#encode market\n",
    "df['Market'] = ml.encode(df, 'Market')"
   ]
  },
  {
   "cell_type": "code",
   "execution_count": 5,
   "metadata": {},
   "outputs": [],
   "source": [
    "#to one hot encoding\n",
    "df = pd.concat([pd.get_dummies(df['Market']).add_prefix('MKT'), df], axis=1)\n",
    "df = pd.concat([pd.get_dummies(df['Month']).add_prefix('M'), df], axis=1)\n",
    "df = pd.concat([pd.get_dummies(df['Q']).add_prefix('Q'), df], axis=1)\n",
    "df.drop(['Market', 'Month', 'Q'], axis=1, inplace=True)"
   ]
  },
  {
   "cell_type": "code",
   "execution_count": 6,
   "metadata": {},
   "outputs": [],
   "source": [
    "#standardize\n",
    "cols_to_standardize = ['Name Words', 'Name Length', 'Offer Amount', 'Price', 'Shares']\n",
    "df[cols_to_standardize] = ml.standardize(df[cols_to_standardize])"
   ]
  },
  {
   "cell_type": "code",
   "execution_count": 7,
   "metadata": {},
   "outputs": [
    {
     "data": {
      "text/html": [
       "<div>\n",
       "<style scoped>\n",
       "    .dataframe tbody tr th:only-of-type {\n",
       "        vertical-align: middle;\n",
       "    }\n",
       "\n",
       "    .dataframe tbody tr th {\n",
       "        vertical-align: top;\n",
       "    }\n",
       "\n",
       "    .dataframe thead th {\n",
       "        text-align: right;\n",
       "    }\n",
       "</style>\n",
       "<table border=\"1\" class=\"dataframe\">\n",
       "  <thead>\n",
       "    <tr style=\"text-align: right;\">\n",
       "      <th></th>\n",
       "      <th>Q1</th>\n",
       "      <th>Q2</th>\n",
       "      <th>Q3</th>\n",
       "      <th>Q4</th>\n",
       "      <th>M1</th>\n",
       "      <th>M2</th>\n",
       "      <th>M3</th>\n",
       "      <th>M4</th>\n",
       "      <th>M5</th>\n",
       "      <th>M6</th>\n",
       "      <th>...</th>\n",
       "      <th>MKT12</th>\n",
       "      <th>Name Words</th>\n",
       "      <th>Name Length</th>\n",
       "      <th>Offer Amount</th>\n",
       "      <th>Price</th>\n",
       "      <th>Shares</th>\n",
       "      <th>1D</th>\n",
       "      <th>1W</th>\n",
       "      <th>1M</th>\n",
       "      <th>3M</th>\n",
       "    </tr>\n",
       "    <tr>\n",
       "      <th>Symbol</th>\n",
       "      <th></th>\n",
       "      <th></th>\n",
       "      <th></th>\n",
       "      <th></th>\n",
       "      <th></th>\n",
       "      <th></th>\n",
       "      <th></th>\n",
       "      <th></th>\n",
       "      <th></th>\n",
       "      <th></th>\n",
       "      <th></th>\n",
       "      <th></th>\n",
       "      <th></th>\n",
       "      <th></th>\n",
       "      <th></th>\n",
       "      <th></th>\n",
       "      <th></th>\n",
       "      <th></th>\n",
       "      <th></th>\n",
       "      <th></th>\n",
       "      <th></th>\n",
       "    </tr>\n",
       "  </thead>\n",
       "  <tbody>\n",
       "    <tr>\n",
       "      <th>WQNI</th>\n",
       "      <td>1</td>\n",
       "      <td>0</td>\n",
       "      <td>0</td>\n",
       "      <td>0</td>\n",
       "      <td>0</td>\n",
       "      <td>1</td>\n",
       "      <td>0</td>\n",
       "      <td>0</td>\n",
       "      <td>0</td>\n",
       "      <td>0</td>\n",
       "      <td>...</td>\n",
       "      <td>0</td>\n",
       "      <td>-1.183553</td>\n",
       "      <td>-1.611300</td>\n",
       "      <td>-0.284726</td>\n",
       "      <td>-0.340497</td>\n",
       "      <td>-0.386568</td>\n",
       "      <td>-0.129856</td>\n",
       "      <td>-0.296122</td>\n",
       "      <td>0.088818</td>\n",
       "      <td>-0.667432</td>\n",
       "    </tr>\n",
       "    <tr>\n",
       "      <th>BBGI</th>\n",
       "      <td>1</td>\n",
       "      <td>0</td>\n",
       "      <td>0</td>\n",
       "      <td>0</td>\n",
       "      <td>0</td>\n",
       "      <td>1</td>\n",
       "      <td>0</td>\n",
       "      <td>0</td>\n",
       "      <td>0</td>\n",
       "      <td>0</td>\n",
       "      <td>...</td>\n",
       "      <td>0</td>\n",
       "      <td>0.950208</td>\n",
       "      <td>0.701675</td>\n",
       "      <td>-0.206002</td>\n",
       "      <td>-0.038392</td>\n",
       "      <td>-0.261148</td>\n",
       "      <td>-0.058333</td>\n",
       "      <td>-0.133333</td>\n",
       "      <td>-0.175000</td>\n",
       "      <td>-0.250000</td>\n",
       "    </tr>\n",
       "    <tr>\n",
       "      <th>UTSI</th>\n",
       "      <td>1</td>\n",
       "      <td>0</td>\n",
       "      <td>0</td>\n",
       "      <td>0</td>\n",
       "      <td>0</td>\n",
       "      <td>0</td>\n",
       "      <td>1</td>\n",
       "      <td>0</td>\n",
       "      <td>0</td>\n",
       "      <td>0</td>\n",
       "      <td>...</td>\n",
       "      <td>0</td>\n",
       "      <td>-0.116672</td>\n",
       "      <td>0.316180</td>\n",
       "      <td>-0.123477</td>\n",
       "      <td>0.263712</td>\n",
       "      <td>-0.164788</td>\n",
       "      <td>0.512195</td>\n",
       "      <td>0.448171</td>\n",
       "      <td>1.042683</td>\n",
       "      <td>-0.134146</td>\n",
       "    </tr>\n",
       "  </tbody>\n",
       "</table>\n",
       "<p>3 rows × 38 columns</p>\n",
       "</div>"
      ],
      "text/plain": [
       "        Q1  Q2  Q3  Q4  M1  M2  M3  M4  M5  M6    ...     MKT12  Name Words  \\\n",
       "Symbol                                            ...                         \n",
       "WQNI     1   0   0   0   0   1   0   0   0   0    ...         0   -1.183553   \n",
       "BBGI     1   0   0   0   0   1   0   0   0   0    ...         0    0.950208   \n",
       "UTSI     1   0   0   0   0   0   1   0   0   0    ...         0   -0.116672   \n",
       "\n",
       "        Name Length  Offer Amount     Price    Shares        1D        1W  \\\n",
       "Symbol                                                                      \n",
       "WQNI      -1.611300     -0.284726 -0.340497 -0.386568 -0.129856 -0.296122   \n",
       "BBGI       0.701675     -0.206002 -0.038392 -0.261148 -0.058333 -0.133333   \n",
       "UTSI       0.316180     -0.123477  0.263712 -0.164788  0.512195  0.448171   \n",
       "\n",
       "              1M        3M  \n",
       "Symbol                      \n",
       "WQNI    0.088818 -0.667432  \n",
       "BBGI   -0.175000 -0.250000  \n",
       "UTSI    1.042683 -0.134146  \n",
       "\n",
       "[3 rows x 38 columns]"
      ]
     },
     "execution_count": 7,
     "metadata": {},
     "output_type": "execute_result"
    }
   ],
   "source": [
    "df.head(3)"
   ]
  },
  {
   "cell_type": "code",
   "execution_count": 8,
   "metadata": {},
   "outputs": [],
   "source": [
    "#save for later improvements\n",
    "df.to_csv('../Datasets/1 baseline.csv', index=True, index_label='Symbol')"
   ]
  },
  {
   "cell_type": "code",
   "execution_count": 9,
   "metadata": {},
   "outputs": [
    {
     "data": {
      "image/png": "[encoded data removed]",
      "text/plain": [
       "<matplotlib.figure.Figure at 0x29921aa8ef0>"
      ]
     },
     "metadata": {},
     "output_type": "display_data"
    },
    {
     "data": {
      "image/png": "[encoded data removed]",
      "text/plain": [
       "<matplotlib.figure.Figure at 0x29921aa8470>"
      ]
     },
     "metadata": {},
     "output_type": "display_data"
    }
   ],
   "source": [
    "#feature importance\n",
    "ml.show_feature_importance(df, '3M')"
   ]
  },
  {
   "cell_type": "code",
   "execution_count": 12,
   "metadata": {
    "scrolled": false
   },
   "outputs": [
    {
     "name": "stderr",
     "output_type": "stream",
     "text": [
      "C:\\Users\\Void\\Anaconda3\\lib\\site-packages\\matplotlib\\cbook\\deprecation.py:106: MatplotlibDeprecationWarning: Adding an axes using the same arguments as a previous axes currently reuses the earlier instance.  In a future version, a new instance will always be created and returned.  Meanwhile, this warning can be suppressed, and the future behavior ensured, by passing a unique label to each axes instance.\n",
      "  warnings.warn(message, mplDeprecation, stacklevel=1)\n"
     ]
    },
    {
     "data": {
      "image/png": "[encoded data removed]",
      "text/plain": [
       "<matplotlib.figure.Figure at 0x29921faa630>"
      ]
     },
     "metadata": {},
     "output_type": "display_data"
    },
    {
     "data": {
      "text/html": [
       "<div>\n",
       "<style scoped>\n",
       "    .dataframe tbody tr th:only-of-type {\n",
       "        vertical-align: middle;\n",
       "    }\n",
       "\n",
       "    .dataframe tbody tr th {\n",
       "        vertical-align: top;\n",
       "    }\n",
       "\n",
       "    .dataframe thead th {\n",
       "        text-align: right;\n",
       "    }\n",
       "</style>\n",
       "<table border=\"1\" class=\"dataframe\">\n",
       "  <thead>\n",
       "    <tr style=\"text-align: right;\">\n",
       "      <th></th>\n",
       "      <th></th>\n",
       "      <th>1D</th>\n",
       "      <th>1W</th>\n",
       "      <th>1M</th>\n",
       "      <th>3M</th>\n",
       "    </tr>\n",
       "  </thead>\n",
       "  <tbody>\n",
       "    <tr>\n",
       "      <th rowspan=\"2\" valign=\"top\">AUC</th>\n",
       "      <th>LR</th>\n",
       "      <td>0.483895</td>\n",
       "      <td>0.483895</td>\n",
       "      <td>0.483895</td>\n",
       "      <td>0.483895</td>\n",
       "    </tr>\n",
       "    <tr>\n",
       "      <th>RF</th>\n",
       "      <td>0.504265</td>\n",
       "      <td>0.504265</td>\n",
       "      <td>0.504265</td>\n",
       "      <td>0.504265</td>\n",
       "    </tr>\n",
       "    <tr>\n",
       "      <th rowspan=\"2\" valign=\"top\">f1</th>\n",
       "      <th>LR</th>\n",
       "      <td>0.567568</td>\n",
       "      <td>0.567568</td>\n",
       "      <td>0.567568</td>\n",
       "      <td>0.567568</td>\n",
       "    </tr>\n",
       "    <tr>\n",
       "      <th>RF</th>\n",
       "      <td>0.695652</td>\n",
       "      <td>0.695652</td>\n",
       "      <td>0.695652</td>\n",
       "      <td>0.695652</td>\n",
       "    </tr>\n",
       "    <tr>\n",
       "      <th rowspan=\"2\" valign=\"top\">log loss</th>\n",
       "      <th>LR</th>\n",
       "      <td>0.723912</td>\n",
       "      <td>0.723912</td>\n",
       "      <td>0.723912</td>\n",
       "      <td>0.723912</td>\n",
       "    </tr>\n",
       "    <tr>\n",
       "      <th>RF</th>\n",
       "      <td>0.691637</td>\n",
       "      <td>0.691637</td>\n",
       "      <td>0.691637</td>\n",
       "      <td>0.691637</td>\n",
       "    </tr>\n",
       "  </tbody>\n",
       "</table>\n",
       "</div>"
      ],
      "text/plain": [
       "                   1D        1W        1M        3M\n",
       "AUC      LR  0.483895  0.483895  0.483895  0.483895\n",
       "         RF  0.504265  0.504265  0.504265  0.504265\n",
       "f1       LR  0.567568  0.567568  0.567568  0.567568\n",
       "         RF  0.695652  0.695652  0.695652  0.695652\n",
       "log loss LR  0.723912  0.723912  0.723912  0.723912\n",
       "         RF  0.691637  0.691637  0.691637  0.691637"
      ]
     },
     "execution_count": 12,
     "metadata": {},
     "output_type": "execute_result"
    }
   ],
   "source": [
    "#as expected the results are poor\n",
    "ml.run_ml_flow(df)"
   ]
  },
  {
   "cell_type": "code",
   "execution_count": null,
   "metadata": {},
   "outputs": [],
   "source": []
  }
 ],
 "metadata": {
  "kernelspec": {
   "display_name": "Python 3",
   "language": "python",
   "name": "python3"
  },
  "language_info": {
   "codemirror_mode": {
    "name": "ipython",
    "version": 3
   },
   "file_extension": ".py",
   "mimetype": "text/x-python",
   "name": "python",
   "nbconvert_exporter": "python",
   "pygments_lexer": "ipython3",
   "version": "3.6.4"
  }
 },
 "nbformat": 4,
 "nbformat_minor": 2
}
