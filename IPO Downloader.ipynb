{
 "cells": [
  {
   "cell_type": "markdown",
   "metadata": {},
   "source": [
    "# Doawnloads and Stores IPO S-1 Filings\n",
    "\n",
    "* Uses EDGAR search\n",
    "* Uses NASDAQ IPO lists\n",
    "* Skips ambiguous company names (todo manually)"
   ]
  },
  {
   "cell_type": "code",
   "execution_count": 22,
   "metadata": {},
   "outputs": [],
   "source": [
    "import edgar\n",
    "from edgar import Edgar\n",
    "from edgar import Company\n",
    "\n",
    "import pandas as pd\n",
    "\n",
    "from pathlib import Path"
   ]
  },
  {
   "cell_type": "code",
   "execution_count": null,
   "metadata": {},
   "outputs": [],
   "source": [
    "# params\n"
   ]
  },
  {
   "cell_type": "code",
   "execution_count": 36,
   "metadata": {},
   "outputs": [
    {
     "data": {
      "text/plain": [
       "odict_keys(['2014-10', '2014-11', '2014-12', '2015-01', '2015-02', '2015-03', '2015-04', '2015-05', '2015-06', '2015-07', '2015-08', '2015-09', '2015-10', '2015-11', '2015-12', '2016-01'])"
      ]
     },
     "execution_count": 36,
     "metadata": {},
     "output_type": "execute_result"
    }
   ],
   "source": [
    "from datetime import datetime, timedelta\n",
    "from collections import OrderedDict\n",
    "dates_range = [\"2018-01-01\", \"2018-06-01\"]\n",
    "start, end = [datetime.strptime(_, \"%Y-%m-%d\") for _ in dates_range]\n",
    "OrderedDict(((start + timedelta(_)).strftime(r\"%Y-%m\"), None) for _ in range((end - start).days)).keys()"
   ]
  },
  {
   "cell_type": "code",
   "execution_count": 21,
   "metadata": {},
   "outputs": [],
   "source": [
    "symbols = list(pd.read_html('https://www.nasdaq.com/markets/ipos/activity.aspx?tab=pricings&month=2018-03')[0]['Symbol'])"
   ]
  },
  {
   "cell_type": "code",
   "execution_count": 34,
   "metadata": {},
   "outputs": [
    {
     "data": {
      "text/html": [
       "<div>\n",
       "<style scoped>\n",
       "    .dataframe tbody tr th:only-of-type {\n",
       "        vertical-align: middle;\n",
       "    }\n",
       "\n",
       "    .dataframe tbody tr th {\n",
       "        vertical-align: top;\n",
       "    }\n",
       "\n",
       "    .dataframe thead th {\n",
       "        text-align: right;\n",
       "    }\n",
       "</style>\n",
       "<table border=\"1\" class=\"dataframe\">\n",
       "  <thead>\n",
       "    <tr style=\"text-align: right;\">\n",
       "      <th></th>\n",
       "      <th>Name</th>\n",
       "      <th>Sector</th>\n",
       "      <th>industry</th>\n",
       "    </tr>\n",
       "    <tr>\n",
       "      <th>Symbol</th>\n",
       "      <th></th>\n",
       "      <th></th>\n",
       "      <th></th>\n",
       "    </tr>\n",
       "  </thead>\n",
       "  <tbody>\n",
       "    <tr>\n",
       "      <th>GNPX</th>\n",
       "      <td>Genprex, Inc.</td>\n",
       "      <td>Health Care</td>\n",
       "      <td>Major Pharmaceuticals</td>\n",
       "    </tr>\n",
       "    <tr>\n",
       "      <th>IQ</th>\n",
       "      <td>iQIYI, Inc.</td>\n",
       "      <td>Consumer Services</td>\n",
       "      <td>Consumer Electronics/Video Chains</td>\n",
       "    </tr>\n",
       "    <tr>\n",
       "      <th>UMRX</th>\n",
       "      <td>Unum Therapeutics Inc.</td>\n",
       "      <td>Health Care</td>\n",
       "      <td>Major Pharmaceuticals</td>\n",
       "    </tr>\n",
       "    <tr>\n",
       "      <th>ONE</th>\n",
       "      <td>OneSmart International Education Group Limited</td>\n",
       "      <td>Consumer Services</td>\n",
       "      <td>Other Consumer Services</td>\n",
       "    </tr>\n",
       "    <tr>\n",
       "      <th>OPBK</th>\n",
       "      <td>OP Bancorp</td>\n",
       "      <td>Finance</td>\n",
       "      <td>Major Banks</td>\n",
       "    </tr>\n",
       "    <tr>\n",
       "      <th>BILI</th>\n",
       "      <td>Bilibili Inc.</td>\n",
       "      <td>Technology</td>\n",
       "      <td>EDP Services</td>\n",
       "    </tr>\n",
       "    <tr>\n",
       "      <th>FIXX</th>\n",
       "      <td>Homology Medicines, Inc.</td>\n",
       "      <td>Health Care</td>\n",
       "      <td>Major Pharmaceuticals</td>\n",
       "    </tr>\n",
       "    <tr>\n",
       "      <th>GHG</th>\n",
       "      <td>GreenTree Hospitality Group Ltd.</td>\n",
       "      <td>Consumer Services</td>\n",
       "      <td>Hotels/Resorts</td>\n",
       "    </tr>\n",
       "    <tr>\n",
       "      <th>DBX</th>\n",
       "      <td>Dropbox, Inc.</td>\n",
       "      <td>Technology</td>\n",
       "      <td>Computer Software: Prepackaged Software</td>\n",
       "    </tr>\n",
       "    <tr>\n",
       "      <th>STG</th>\n",
       "      <td>Sunlands Online Education Group</td>\n",
       "      <td>Consumer Services</td>\n",
       "      <td>Other Consumer Services</td>\n",
       "    </tr>\n",
       "  </tbody>\n",
       "</table>\n",
       "</div>"
      ],
      "text/plain": [
       "                                                  Name             Sector  \\\n",
       "Symbol                                                                      \n",
       "GNPX                                     Genprex, Inc.        Health Care   \n",
       "IQ                                         iQIYI, Inc.  Consumer Services   \n",
       "UMRX                            Unum Therapeutics Inc.        Health Care   \n",
       "ONE     OneSmart International Education Group Limited  Consumer Services   \n",
       "OPBK                                        OP Bancorp            Finance   \n",
       "BILI                                     Bilibili Inc.         Technology   \n",
       "FIXX                          Homology Medicines, Inc.        Health Care   \n",
       "GHG                   GreenTree Hospitality Group Ltd.  Consumer Services   \n",
       "DBX                                      Dropbox, Inc.         Technology   \n",
       "STG                    Sunlands Online Education Group  Consumer Services   \n",
       "\n",
       "                                       industry  \n",
       "Symbol                                           \n",
       "GNPX                      Major Pharmaceuticals  \n",
       "IQ            Consumer Electronics/Video Chains  \n",
       "UMRX                      Major Pharmaceuticals  \n",
       "ONE                     Other Consumer Services  \n",
       "OPBK                                Major Banks  \n",
       "BILI                               EDP Services  \n",
       "FIXX                      Major Pharmaceuticals  \n",
       "GHG                              Hotels/Resorts  \n",
       "DBX     Computer Software: Prepackaged Software  \n",
       "STG                     Other Consumer Services  "
      ]
     },
     "execution_count": 34,
     "metadata": {},
     "output_type": "execute_result"
    }
   ],
   "source": [
    "df_symbols"
   ]
  },
  {
   "cell_type": "code",
   "execution_count": 16,
   "metadata": {},
   "outputs": [],
   "source": [
    "def get_symbols_df():\n",
    "    # load symbol lists\n",
    "    nasdaq = pd.read_csv('http://www.nasdaq.com/screening/companies-by-name.aspx?letter=0&exchange=nasdaq&render=download')\n",
    "    nyse = pd.read_csv('http://www.nasdaq.com/screening/companies-by-name.aspx?letter=0&exchange=nyse&render=download')\n",
    "    amex = pd.read_csv('http://www.nasdaq.com/screening/companies-by-name.aspx?letter=0&exchange=amex&render=download')\n",
    "    etf = pd.read_csv('http://www.nasdaq.com/investing/etfs/etf-finder-results.aspx?download=Yes')\n",
    "    arca = pd.read_excel('https://www.nyse.com/publicdocs/nyse/markets/nyse-arca/NYSE_Arca_Eligible_Securities.xlsx')\n",
    "    arca.rename(columns={'Security Description' : 'Name', 'Symbol ' : 'Symbol'}, inplace=True)\n",
    "    us = nasdaq.append(nyse).append(amex).append(etf).append(arca)\n",
    "\n",
    "    # create symbols df\n",
    "    df_symbols = us.copy()\n",
    "\n",
    "    # keep unique assets\n",
    "    df_symbols = df_symbols.drop_duplicates(subset=['Symbol'])\n",
    "\n",
    "    # replace uknown sectors\n",
    "    df_symbols['Sector'].fillna('Other', inplace=True)\n",
    "    df_symbols.Sector.replace(['n/a'], ['Other'], inplace=True)\n",
    "\n",
    "    # assign index\n",
    "    df_symbols.set_index('Symbol', inplace=True)\n",
    "    df_symbols.sort_index(level=[0], inplace=True)\n",
    "\n",
    "    # keep only relevant cols\n",
    "    df_symbols = df_symbols[['Name', 'Sector', 'industry']]\n",
    "\n",
    "    print('symbols', df_symbols.shape)\n",
    "    \n",
    "    return df_symbols"
   ]
  },
  {
   "cell_type": "code",
   "execution_count": 17,
   "metadata": {},
   "outputs": [
    {
     "name": "stdout",
     "output_type": "stream",
     "text": [
      "symbols (8800, 3)\n"
     ]
    }
   ],
   "source": [
    "df_symbols = get_symbols_df()"
   ]
  },
  {
   "cell_type": "code",
   "execution_count": 18,
   "metadata": {},
   "outputs": [],
   "source": [
    "df_symbols = df_symbols.loc[symbols]"
   ]
  },
  {
   "cell_type": "code",
   "execution_count": 30,
   "metadata": {
    "scrolled": true
   },
   "outputs": [
    {
     "name": "stdout",
     "output_type": "stream",
     "text": [
      "\n",
      "( 1 / 10 ) GNPX\n",
      "GNPX data already exists, skipping...\n",
      "\n",
      "( 2 / 10 ) IQ\n",
      "possible_companies: ['IQIYI, INC.']\n",
      "https://www.sec.gov/cgi-bin/browse-edgar?action=getcompany&CIK=0001722608&type=S-1&dateb=&owner=include&count=100\n",
      "\n",
      "( 3 / 10 ) UMRX\n",
      "possible_companies: ['UNUM THERAPEUTICS INC.', 'UNUM THERAPEUTICS, INC.']\n",
      "https://www.sec.gov/cgi-bin/browse-edgar?action=getcompany&CIK=0001622229&type=S-1&dateb=&owner=include&count=100\n",
      "\n",
      "( 4 / 10 ) ONE\n",
      "possible_companies: []\n",
      "no possible companies: ONE\n",
      "\n",
      "( 5 / 10 ) OPBK\n",
      "possible_companies: ['CAPITAL DEVELOPMENT BANCORP LTD III', 'CAPITAL DEVELOPMENT BANCORP LTD V', 'CAPITAL DEVELOPMENT BANCORP LTD VII', 'CAPITOL DEVELOPMENT BANCORP LTD II', 'CAPITOL DEVELOPMENT BANCORP LTD IV', 'CAPITOL DEVELOPMENT BANCORP LTD V', 'CAPITOL DEVELOPMENT BANCORP LTD VI', 'CAPITOL DEVELOPMENT BANCORP LTD VII', 'CAPITOL DEVELOPMENT BANCORP LTD VIII', 'CHICOPEE BANCORP, INC.', 'CITIZENS BANCORP ESOP & TRUST', 'COHOES BANCORP INC ESOP', 'COLONIAL BANCORP INC QUALIFIED STOCK OPT', 'DEVELOPMENT BANCORP LTD', 'FIRST PEOPLES BANCORP, INC.', 'HILLTOP COMMUNITY BANCORP INC', 'HOMESTEAD BANCORP INC EMPLOYEE STOCK OPTION PLAN', 'HOPE BANCORP INC', 'HOPFED BANCORP INC EMPLOYEE STOCK OWNERSHIP PLAN TRUST', 'HOPFED BANCORP INC', 'METROPOLITAN BANCORP INC', 'METROPOLITAN BANCORP', 'METROPOLITAN CAPITAL BANCORP INC', 'NEWSOUTH BANCORP INC EMPLOYEE STOCK OPTION PLAN', 'OP BANCORP', 'PENNFIRST BANCORP INC ESOP TRUST', \"PEOPLE'S UTAH BANCORP\", 'PEOPLES BANCORP INC /DE/', 'PEOPLES BANCORP INC /GA/', 'PEOPLES BANCORP INC /NJ/', 'PEOPLES BANCORP INC /NY/', 'PEOPLES BANCORP INC \\\\\\\\TX\\\\\\\\', 'PEOPLES BANCORP INC/MD', 'PEOPLES BANCORP INC', 'PEOPLES BANCORP OF NORTH CAROLINA INC', 'PEOPLES BANCORP', 'PEOPLES BANCORPORATION INC /SC/', 'PEOPLES COMMUNITY BANCORP INC /DE/', 'PEOPLES COMMUNITY BANCORP INC /MD/', 'WYMAN PARK BANCORPORATION INC ESOP TRUST']\n",
      "https://www.sec.gov/cgi-bin/browse-edgar?action=getcompany&CIK=0001329905&type=S-1&dateb=&owner=include&count=100\n",
      "\n",
      "( 6 / 10 ) BILI\n",
      "possible_companies: ['BILIBILI INC.']\n",
      "https://www.sec.gov/cgi-bin/browse-edgar?action=getcompany&CIK=0001723690&type=S-1&dateb=&owner=include&count=100\n",
      "\n",
      "( 7 / 10 ) FIXX\n",
      "FIXX data already exists, skipping...\n",
      "\n",
      "( 8 / 10 ) GHG\n",
      "possible_companies: ['GREENTREE HOSPITALITY GROUP LTD.']\n",
      "https://www.sec.gov/cgi-bin/browse-edgar?action=getcompany&CIK=0001724755&type=S-1&dateb=&owner=include&count=100\n",
      "\n",
      "( 9 / 10 ) DBX\n",
      "DBX data already exists, skipping...\n",
      "\n",
      "( 10 / 10 ) STG\n",
      "possible_companies: ['SUNLANDS ONLINE EDUCATION GROUP/ADR', 'SUNLANDS ONLINE EDUCATION GROUP']\n",
      "https://www.sec.gov/cgi-bin/browse-edgar?action=getcompany&CIK=0001729245&type=S-1&dateb=&owner=include&count=100\n"
     ]
    }
   ],
   "source": [
    "ipo = {}\n",
    "counter = 0\n",
    "\n",
    "for x in df_symbols.index:\n",
    "    counter += 1\n",
    "    print('\\n( ' + str(counter) + ' / ' + str(df_symbols.shape[0]) + ' ) ' + x)\n",
    "    \n",
    "    #check if exists\n",
    "    if Path(\"./Data/\" + x + \".txt\").is_file():\n",
    "        print(x + ' data already exists, skipping...')\n",
    "        continue\n",
    "    # file exists\n",
    "    \n",
    "    #create company\n",
    "    tmpEdgar = Edgar()\n",
    "    possible_companies = tmpEdgar.findCompanyName(df_symbols.loc[x]['Name'])\n",
    "    print('possible_companies:', possible_companies)\n",
    "    \n",
    "    #validate\n",
    "    if len(possible_companies) == 0:\n",
    "        print('no possible companies:', x)\n",
    "        continue\n",
    "    #elif len(possible_companies) > 1:\n",
    "    #    print('too many possible companies:', x)\n",
    "    #    continue\n",
    "    \n",
    "    name = possible_companies[0]\n",
    "    cik = tmpEdgar.getCikByCompanyName(possible_companies[0])\n",
    "    company = Company(name, cik)\n",
    "    \n",
    "    #look for S-1\n",
    "    print(company.getFilingsUrl(filingType = \"S-1\"))\n",
    "    tree = company.getAllFilings(filingType = \"S-1\")\n",
    "    docs = edgar.getDocuments(tree, noOfDocuments=5)\n",
    "    \n",
    "    #write file\n",
    "    if len(docs) > 0:\n",
    "        with open(\"./Data/\" + x + \".txt\", \"w\", encoding=\"utf-8\") as f:\n",
    "            f.write(docs[0])\n",
    "            print('Got data for ' + x)"
   ]
  },
  {
   "cell_type": "code",
   "execution_count": null,
   "metadata": {},
   "outputs": [],
   "source": []
  }
 ],
 "metadata": {
  "kernelspec": {
   "display_name": "Python 3",
   "language": "python",
   "name": "python3"
  },
  "language_info": {
   "codemirror_mode": {
    "name": "ipython",
    "version": 3
   },
   "file_extension": ".py",
   "mimetype": "text/x-python",
   "name": "python",
   "nbconvert_exporter": "python",
   "pygments_lexer": "ipython3",
   "version": "3.6.4"
  }
 },
 "nbformat": 4,
 "nbformat_minor": 2
}
