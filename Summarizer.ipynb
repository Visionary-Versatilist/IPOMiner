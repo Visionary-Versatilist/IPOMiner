{
 "cells": [
  {
   "cell_type": "markdown",
   "metadata": {},
   "source": [
    "# Summarization\n",
    "- Summarize S-1 raw filings\n",
    "- Batch process"
   ]
  },
  {
   "cell_type": "code",
   "execution_count": 1,
   "metadata": {},
   "outputs": [
    {
     "name": "stderr",
     "output_type": "stream",
     "text": [
      "C:\\Users\\void\\Anaconda3\\lib\\site-packages\\gensim\\utils.py:1197: UserWarning: detected Windows; aliasing chunkize to chunkize_serial\n",
      "  warnings.warn(\"detected Windows; aliasing chunkize to chunkize_serial\")\n"
     ]
    }
   ],
   "source": [
    "#core\n",
    "import pandas as pd\n",
    "\n",
    "from bs4 import BeautifulSoup\n",
    "from pathlib import Path\n",
    "\n",
    "#NLP\n",
    "from gensim.summarization import summarize"
   ]
  },
  {
   "cell_type": "markdown",
   "metadata": {},
   "source": [
    "# Summarize IPO S-1 Filings"
   ]
  },
  {
   "cell_type": "code",
   "execution_count": 2,
   "metadata": {},
   "outputs": [],
   "source": [
    "#load previous progress\n",
    "df = pd.read_csv('2 sentiment analysis.csv', index_col='Symbol')"
   ]
  },
  {
   "cell_type": "code",
   "execution_count": 3,
   "metadata": {},
   "outputs": [],
   "source": [
    "def summarize(x):\n",
    "    #read S-1\n",
    "    with open(\"./Data/\" + x + \".htm\", \"r\", encoding=\"utf-8\") as f:\n",
    "        html = f.read()\n",
    "        soup = BeautifulSoup(html,\"html5lib\")\n",
    "        text = soup.get_text(strip=True)\n",
    "\n",
    "        #summary and keywords\n",
    "        summary = summarize(text, ratio=0.01)\n",
    "        \n",
    "        #write summary\n",
    "        with open(\"./Summary/\" + x + \".txt\", \"w\", encoding=\"utf-8\") as f:\n",
    "            f.write(summary)    "
   ]
  },
  {
   "cell_type": "code",
   "execution_count": null,
   "metadata": {},
   "outputs": [
    {
     "name": "stdout",
     "output_type": "stream",
     "text": [
      "\n",
      "( 1 / 696 ) AACC\n",
      "AACC data already exists, skipping...\n",
      "\n",
      "( 2 / 696 ) AAT\n",
      "AAT data already exists, skipping...\n",
      "\n",
      "( 3 / 696 ) ABR\n"
     ]
    }
   ],
   "source": [
    "#batch process\n",
    "counter = 0\n",
    "\n",
    "for x in df.index:\n",
    "    try:\n",
    "        counter += 1\n",
    "        print('\\n( ' + str(counter) + ' / ' + str(df.shape[0]) + ' ) ' + str(x))\n",
    "\n",
    "        #check if exists\n",
    "        if Path(\"./Summary/\" + x + \".txt\").is_file():\n",
    "            print(x + ' data already exists, skipping...')\n",
    "            continue\n",
    "\n",
    "        #summarization and keywords\n",
    "        summarize(x)\n",
    "    except Exception as e:\n",
    "        print(x, e)\n",
    "        #for now expection are only too large files that cause out of memory\n",
    "        #anyway it's imposible to summarize so then write empty files for later jobs\n",
    "        Path('./Summary/' + x + '.txt').touch()      "
   ]
  },
  {
   "cell_type": "code",
   "execution_count": null,
   "metadata": {},
   "outputs": [],
   "source": []
  }
 ],
 "metadata": {
  "kernelspec": {
   "display_name": "Python 3",
   "language": "python",
   "name": "python3"
  },
  "language_info": {
   "codemirror_mode": {
    "name": "ipython",
    "version": 3
   },
   "file_extension": ".py",
   "mimetype": "text/x-python",
   "name": "python",
   "nbconvert_exporter": "python",
   "pygments_lexer": "ipython3",
   "version": "3.6.5"
  }
 },
 "nbformat": 4,
 "nbformat_minor": 2
}
